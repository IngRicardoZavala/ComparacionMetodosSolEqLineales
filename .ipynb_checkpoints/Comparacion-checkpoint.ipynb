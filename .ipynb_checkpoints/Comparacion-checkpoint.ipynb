{
 "cells": [
  {
   "cell_type": "markdown",
   "id": "proof-scotland",
   "metadata": {},
   "source": [
    "Comparación de Métodos de solución de sistemas matriciales nxn, por distintas factorizaciones"
   ]
  },
  {
   "cell_type": "markdown",
   "id": "specific-isaac",
   "metadata": {},
   "source": [
    "Método que se compararan\n",
    "- LU\n",
    "- Gauss-Jordan\n",
    "- Inversa"
   ]
  },
  {
   "cell_type": "markdown",
   "id": "fossil-average",
   "metadata": {},
   "source": [
    "Librerias utilizadas"
   ]
  },
  {
   "cell_type": "code",
   "execution_count": 1,
   "id": "naughty-broadway",
   "metadata": {},
   "outputs": [],
   "source": [
    "from math import sqrt\n",
    "from random import randint\n",
    "from time import time\n",
    "from statistics import mean,stdev\n",
    "import numpy as np"
   ]
  },
  {
   "cell_type": "markdown",
   "id": "together-remove",
   "metadata": {},
   "source": [
    "Implementación Solución sistema por LU"
   ]
  },
  {
   "cell_type": "code",
   "execution_count": 14,
   "id": "sunrise-shark",
   "metadata": {},
   "outputs": [],
   "source": [
    "def solucion_LU(A,b):\n",
    "    n=len(A)\n",
    "    l=[]\n",
    "    #Generación de la matriz L\n",
    "    for i in range(n):\n",
    "        aux=[]\n",
    "        for j in range(n):\n",
    "            aux.append(0)\n",
    "        l.append(aux)\n",
    "    #Realizanción de factorización LU\n",
    "    for i in range(n):\n",
    "        for j in range(i,n):\n",
    "            if i==j:\n",
    "                l[j][i]=1\n",
    "            else:\n",
    "                l[j][i]=A[j][i]/A[i][i]\n",
    "        if i<n-1:\n",
    "            for k in range(i+1,n):\n",
    "                aux=A[k][i]\n",
    "                for j in range(n):\n",
    "                        A[k][j]=A[k][j]-aux*A[i][j]/A[i][i]\n",
    "    #Realizando solución del Sistema LY=B\n",
    "    for i in range(1,n):\n",
    "        for j in range(0,i):\n",
    "            b[i]=b[i]-l[i][j]*b[j]\n",
    "    #Realizando solución del sistema UX=Y\n",
    "    for i in range(n-1,-1,-1):\n",
    "        for j in range(n-1,i,-1):\n",
    "            b[i]=b[i]-A[i][j]*b[j]\n",
    "        b[i]=b[i]/A[i][i]\n",
    "    return b"
   ]
  },
  {
   "cell_type": "markdown",
   "id": "widespread-transformation",
   "metadata": {},
   "source": [
    "Implementación solución por Gauss-Jordan"
   ]
  },
  {
   "cell_type": "code",
   "execution_count": 15,
   "id": "willing-status",
   "metadata": {},
   "outputs": [],
   "source": [
    "def solucion_gj(A,b):\n",
    "    n=len(A)\n",
    "    aux=A[0][0]\n",
    "    A[0][0]=1\n",
    "    #Division de la primera fila entre el primer elemento\n",
    "    for i in range(1,n):\n",
    "        A[0][i]=A[0][i]/aux\n",
    "    b[0]=b[0]/aux\n",
    "    #Llevando matriz A a una matriz triangular superior\n",
    "    for i in range(n-1):\n",
    "        for k in range(i+1,n):\n",
    "            aux=A[k][i]\n",
    "            for j in range(n):\n",
    "                A[k][j]=A[k][j]-aux*A[i][j]/A[i][i]\n",
    "            b[k]=b[k]-aux*b[i]/A[i][i]\n",
    "        aux=A[i+1][i+1]\n",
    "        for j in range(i+1,n):\n",
    "            A[i+1][j]=A[i+1][j]/aux\n",
    "        b[i+1]=b[i+1]/aux\n",
    "    #Realizando las operaciones para realizar una matriz diagonal a la\n",
    "    #matriz A resultante del paso anterior, pero con operaciones solo al vector\n",
    "    #para reducir tiempos\n",
    "    for i in range(n-1,-1,-1):\n",
    "        for j in range(i,0,-1):\n",
    "            aux=A[j-1][i]\n",
    "            b[j-1]=b[j-1]-aux*b[i]\n",
    "    return b"
   ]
  },
  {
   "cell_type": "markdown",
   "id": "electronic-cleanup",
   "metadata": {},
   "source": [
    "Método de la inversa"
   ]
  },
  {
   "cell_type": "code",
   "execution_count": 17,
   "id": "synthetic-battery",
   "metadata": {},
   "outputs": [],
   "source": [
    "def solucion_inversa(A,b):\n",
    "    n=len(A)\n",
    "    inversa=[]\n",
    "    #Generando la matriz identidad\n",
    "    for i in range(n):\n",
    "        aux=[]\n",
    "        for j in range(n):\n",
    "            if i==j:\n",
    "                aux.append(1)\n",
    "            else:\n",
    "                aux.append(0)\n",
    "        inversa.append(aux)\n",
    "    #Calculando la matriz inversa por el método Gauss-Jordan\n",
    "    for i in range(n):\n",
    "        for j in range(i+1,n):\n",
    "            aux=A[j][i]\n",
    "            for k in range(n):\n",
    "                A[j][k]=A[j][k]-aux*A[i][k]/A[i][i]\n",
    "                inversa[j][k]=inversa[j][k]-aux*inversa[i][k]/A[i][i]\n",
    "    for i in range(n):\n",
    "        aux=A[i][i]\n",
    "        for j in range(n):\n",
    "            A[i][j]=A[i][j]/aux\n",
    "            inversa[i][j]=inversa[i][j]/aux\n",
    "    for i in range(n-1,-1,-1):\n",
    "        for j in range(i,0,-1):\n",
    "            aux=A[j-1][i]\n",
    "            for k in range(n):\n",
    "                inversa[j-1][k]=inversa[j-1][k]-aux*inversa[i][k]\n",
    "    sol=[]\n",
    "    #Multiplicación de la inversa por el vector b\n",
    "    for i in range(n):\n",
    "        a=0\n",
    "        for j in range(n):\n",
    "            a+=inversa[i][j]*b[j]\n",
    "        sol.append(a)\n",
    "    return sol"
   ]
  },
  {
   "cell_type": "markdown",
   "id": "rising-shield",
   "metadata": {},
   "source": [
    "Función generadora de matrices nxn"
   ]
  },
  {
   "cell_type": "code",
   "execution_count": 20,
   "id": "sitting-regression",
   "metadata": {},
   "outputs": [],
   "source": [
    "def gen_A(n):\n",
    "    d=0\n",
    "    while d==0: #Verificación para que el sistema solución\n",
    "        c=[] \n",
    "        #Llenando los elementos de la matriz\n",
    "        for i in range(n):\n",
    "            aux=[]\n",
    "            for i in range(n):\n",
    "                aux.append(randint(0,1000000))\n",
    "            c.append(aux)\n",
    "        c= np.array(c)\n",
    "        #Calculando determinante para conocer si el sistema con esta matriz\n",
    "        #tiene solución\n",
    "        d=np.linalg.det(c)\n",
    "    return c"
   ]
  },
  {
   "cell_type": "markdown",
   "id": "anticipated-crowd",
   "metadata": {},
   "source": [
    "Función generadora de vectores b"
   ]
  },
  {
   "cell_type": "code",
   "execution_count": 21,
   "id": "outer-carpet",
   "metadata": {},
   "outputs": [],
   "source": [
    "def gen_b(n):\n",
    "    d=[]\n",
    "    #Generación de vector vector b\n",
    "    for i in range(n):\n",
    "        d.append(randint(0,1000000))\n",
    "    return d"
   ]
  },
  {
   "cell_type": "markdown",
   "id": "aware-diesel",
   "metadata": {},
   "source": [
    "Función para la realización de las pruebas"
   ]
  },
  {
   "cell_type": "code",
   "execution_count": 22,
   "id": "meaningful-prairie",
   "metadata": {},
   "outputs": [],
   "source": [
    "def pruebas(repeticiones,dimensiones):\n",
    "    tiempo_gj=[]             #Lista para guarda los tiempos de ejecuación de metodo\n",
    "    aux=0                    #Variable auxiliar en caso de error de computo\n",
    "    for i in range(repeticiones+aux):\n",
    "        A=gen_A(dimensiones) #Obteniendo matriz de tamaño dimensiones x dimensiones\n",
    "        b=gen_b(dimensiones) #Generando vector b de  tamaño dimensiones\n",
    "        try:\n",
    "            inicio=time()        #Registrado tiempo donde inicial el método\n",
    "            c=solucion_gj(A,b)   #Ejecución del método\n",
    "            final=time()         #Registrando timmpo donde termina el método\n",
    "            tiempo_gj.append(final-inicio) #Calculando tiempo de duración  y guardando tiempo de duración\n",
    "        except:\n",
    "            aux+=1\n",
    "    aux=0\n",
    "    tiempo_lu=[]             #Lista para guarda los tiempos de ejecuación de metodo\n",
    "    for i in range(repeticiones+aux):\n",
    "        A=gen_A(dimensiones) #Obteniendo matriz de tamaño dimensiones x dimensiones\n",
    "        b=gen_b(dimensiones) #Generando vector b de  tamaño dimensiones\n",
    "        try:\n",
    "            inicio=time()        #Registrado tiempo donde inicial el método\n",
    "            c=solucion_LU(A,b)   #Ejecución del método\n",
    "            final=time()         #Registrando timmpo donde termina el método\n",
    "            tiempo_lu.append(final-inicio) #Calculando tiempo de duración  y guardando tiempo de duración\n",
    "        except:\n",
    "            aux+=1\n",
    "    aux=0\n",
    "    tiempo_inversa=[]             #Lista para guarda los tiempos de ejecuación de metodo\n",
    "    for i in range(repeticiones+aux):\n",
    "        A=gen_A(dimensiones) #Obteniendo matriz de tamaño dimensiones x dimensiones\n",
    "        b=gen_b(dimensiones) #Generando vector b de  tamaño dimensiones\n",
    "        try:\n",
    "            inicio=time()        #Registrado tiempo donde inicial el método\n",
    "            c=solucion_inversa(A,b)   #Ejecución del método\n",
    "            final=time()         #Registrando timmpo donde termina el método\n",
    "            tiempo_inversa.append(final-inicio) #Calculando tiempo de duración  y guardando tiempo de duración\n",
    "        except:\n",
    "            aux+=1\n",
    "    return [tiempo_gj,tiempo_lu,tiempo_inversa]"
   ]
  },
  {
   "cell_type": "code",
   "execution_count": 23,
   "id": "opponent-actor",
   "metadata": {},
   "outputs": [
    {
     "name": "stderr",
     "output_type": "stream",
     "text": [
      "<ipython-input-15-89a146e38eae>:12: RuntimeWarning: overflow encountered in long_scalars\n",
      "  A[k][j]=A[k][j]-aux*A[i][j]/A[i][i]\n",
      "<ipython-input-14-6e5d0a274797>:19: RuntimeWarning: overflow encountered in long_scalars\n",
      "  A[k][j]=A[k][j]-aux*A[i][j]/A[i][i]\n",
      "<ipython-input-17-6e620c185caa>:18: RuntimeWarning: overflow encountered in long_scalars\n",
      "  A[j][k]=A[j][k]-aux*A[i][k]/A[i][i]\n"
     ]
    }
   ],
   "source": [
    "#Realizaremos la repetición del experimento para 100 matrices aleatorias\n",
    "#De dimensiones 100\n",
    "#Para numero enteros aleatorios entre\n",
    "#Para numero enteros aleatorios entre 0 y 1000000\n",
    "tiempo=pruebas(50,100)"
   ]
  },
  {
   "cell_type": "code",
   "execution_count": 24,
   "id": "muslim-causing",
   "metadata": {},
   "outputs": [
    {
     "name": "stdout",
     "output_type": "stream",
     "text": [
      "La media es: 2.004 La desviación estandar es: 0.014\n",
      "La media es: 3.033 La desviación estandar es: 0.425\n",
      "La media es: 5.627 La desviación estandar es: 0.209\n"
     ]
    }
   ],
   "source": [
    "#El timepo medio y desviación estandar para el Gauss-Jordan es\n",
    "m_gj=round(mean(tiempo[0]),3)\n",
    "s_gj=round(stdev(tiempo[0]),3)\n",
    "print(\"La media es:\",m_gj,\"La desviación estandar es:\",s_gj)\n",
    "#El timepo medio y desviación estandar para el LUn es\n",
    "m_lu=round(mean(tiempo[1]),3)\n",
    "s_lu=round(stdev(tiempo[1]),3)\n",
    "print(\"La media es:\",m_lu,\"La desviación estandar es:\",s_lu)\n",
    "#El timepo medio y desviación estandar para el Inversa es\n",
    "m_in=round(mean(tiempo[2]),3)\n",
    "s_in=round(stdev(tiempo[2]),3)\n",
    "print(\"La media es:\",m_in,\"La desviación estandar es:\",s_in)"
   ]
  },
  {
   "cell_type": "markdown",
   "id": "neither-delta",
   "metadata": {},
   "source": [
    "Calculo del estadistico para la prueba de hipotesis"
   ]
  },
  {
   "cell_type": "code",
   "execution_count": 29,
   "id": "adequate-toronto",
   "metadata": {
    "scrolled": true
   },
   "outputs": [
    {
     "data": {
      "text/plain": [
       "-24.198639038657575"
      ]
     },
     "execution_count": 29,
     "metadata": {},
     "output_type": "execute_result"
    }
   ],
   "source": [
    "(m_gj-m_lu)/(sqrt(s_gj**2/100+s_lu**2/100))"
   ]
  }
 ],
 "metadata": {
  "kernelspec": {
   "display_name": "Python 3",
   "language": "python",
   "name": "python3"
  },
  "language_info": {
   "codemirror_mode": {
    "name": "ipython",
    "version": 3
   },
   "file_extension": ".py",
   "mimetype": "text/x-python",
   "name": "python",
   "nbconvert_exporter": "python",
   "pygments_lexer": "ipython3",
   "version": "3.9.2"
  }
 },
 "nbformat": 4,
 "nbformat_minor": 5
}
